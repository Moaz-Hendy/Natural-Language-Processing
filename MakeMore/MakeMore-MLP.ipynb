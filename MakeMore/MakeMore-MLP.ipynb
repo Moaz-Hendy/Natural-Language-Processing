{
 "cells": [
  {
   "cell_type": "code",
   "execution_count": 10,
   "id": "7206b19f",
   "metadata": {},
   "outputs": [],
   "source": [
    "import torch\n",
    "import torch.nn.functional as F\n",
    "import matplotlib.pyplot as plt\n",
    "%matplotlib inline"
   ]
  },
  {
   "cell_type": "code",
   "execution_count": 11,
   "id": "5aa3bf95",
   "metadata": {},
   "outputs": [
    {
     "data": {
      "text/plain": [
       "['emma', 'olivia', 'ava', 'isabella', 'sophia', 'charlotte', 'mia', 'amelia']"
      ]
     },
     "execution_count": 11,
     "metadata": {},
     "output_type": "execute_result"
    }
   ],
   "source": [
    "# read in all the words\n",
    "with open('names.txt', 'r') as f:\n",
    "    words = f.read().splitlines()\n",
    "\n",
    "words[:8]"
   ]
  },
  {
   "cell_type": "code",
   "execution_count": 12,
   "id": "b39ffd2a",
   "metadata": {},
   "outputs": [
    {
     "data": {
      "text/plain": [
       "32033"
      ]
     },
     "execution_count": 12,
     "metadata": {},
     "output_type": "execute_result"
    }
   ],
   "source": [
    "len(words)"
   ]
  },
  {
   "cell_type": "code",
   "execution_count": 13,
   "id": "0a7ed9f1",
   "metadata": {},
   "outputs": [
    {
     "name": "stdout",
     "output_type": "stream",
     "text": [
      "{'a': 1, 'b': 2, 'c': 3, 'd': 4, 'e': 5, 'f': 6, 'g': 7, 'h': 8, 'i': 9, 'j': 10, 'k': 11, 'l': 12, 'm': 13, 'n': 14, 'o': 15, 'p': 16, 'q': 17, 'r': 18, 's': 19, 't': 20, 'u': 21, 'v': 22, 'w': 23, 'x': 24, 'y': 25, 'z': 26, '.': 0}\n"
     ]
    }
   ],
   "source": [
    "# build the vocabulary of characters and mapping to/from integers\n",
    "characters = sorted(list(set(''.join(words))))\n",
    "stoi = {s:i+1 for i, s in enumerate(characters)}\n",
    "stoi['.'] = 0\n",
    "itos = {i: s for s, i in stoi.items()}\n",
    "print(stoi)"
   ]
  },
  {
   "cell_type": "code",
   "execution_count": 87,
   "id": "f1a0b07b",
   "metadata": {},
   "outputs": [],
   "source": [
    "# building the dataset\n",
    "\n",
    "block_size = 3 # context length: how many characters do we take to predict the next one?\n",
    "x, y = [], []\n",
    "for w in words:\n",
    "    #print(w)\n",
    "    context = [0] * block_size\n",
    "    for ch in w + '.':\n",
    "        ix = stoi[ch]\n",
    "        x.append(context)\n",
    "        y.append(ix)\n",
    "        #print(''.join(itos[i] for i in context), '---->', itos[ix])\n",
    "        context = context[1:] + [ix]\n",
    "\n",
    "x = torch.tensor(x)\n",
    "y = torch.tensor(y)"
   ]
  },
  {
   "cell_type": "code",
   "execution_count": 88,
   "id": "198e5f20",
   "metadata": {},
   "outputs": [
    {
     "data": {
      "text/plain": [
       "(torch.Size([228146, 3]), torch.int64, torch.Size([228146]), torch.int64)"
      ]
     },
     "execution_count": 88,
     "metadata": {},
     "output_type": "execute_result"
    }
   ],
   "source": [
    "x.shape, x.dtype, y.shape, y.dtype"
   ]
  },
  {
   "cell_type": "code",
   "execution_count": 125,
   "id": "9bcb9103",
   "metadata": {},
   "outputs": [
    {
     "name": "stdout",
     "output_type": "stream",
     "text": [
      "torch.Size([182625, 3]) torch.Size([182625])\n",
      "torch.Size([22655, 3]) torch.Size([22655])\n",
      "torch.Size([22866, 3]) torch.Size([22866])\n"
     ]
    }
   ],
   "source": [
    "# Build the dataset\n",
    "def build_dataset(words):\n",
    "    block_size = 3 # context length: how many characters do we take to predict the next one?\n",
    "    x, y = [], []\n",
    "    for w in words:\n",
    "        #print(w)\n",
    "        context = [0] * block_size\n",
    "        for ch in w + '.':\n",
    "            ix = stoi[ch]\n",
    "            x.append(context)\n",
    "            y.append(ix)\n",
    "            #print(''.join(itos[i] for i in context), '---->', itos[ix])\n",
    "            context = context[1:] + [ix]\n",
    "\n",
    "    x = torch.tensor(x)\n",
    "    y = torch.tensor(y)\n",
    "    print(x.shape, y.shape)\n",
    "    return x, y\n",
    "\n",
    "import random\n",
    "random.seed(42)\n",
    "random.shuffle(words)\n",
    "n1 = int(0.8*len(words))\n",
    "n2 = int(0.9*len(words))\n",
    "xtr, ytr = build_dataset(words[:n1])\n",
    "xdev, ydev = build_dataset(words[n1:n2])\n",
    "xte, yte = build_dataset(words[n2:])"
   ]
  },
  {
   "cell_type": "code",
   "execution_count": 89,
   "id": "dc02cc3d",
   "metadata": {},
   "outputs": [
    {
     "data": {
      "text/plain": [
       "tensor([[ 0.4810,  0.2461],\n",
       "        [-0.0413, -2.0559],\n",
       "        [-0.1618, -1.1112],\n",
       "        [-0.3515,  0.8033],\n",
       "        [ 0.4623, -0.1809],\n",
       "        [ 0.6628, -0.2201],\n",
       "        [-0.9411, -1.2837],\n",
       "        [-1.0093,  2.0547],\n",
       "        [-0.3443, -0.7743],\n",
       "        [ 0.5992, -1.3176],\n",
       "        [-0.1715,  1.5271],\n",
       "        [-0.1260, -0.7498],\n",
       "        [-2.0975, -0.1596],\n",
       "        [-0.8652,  1.0362],\n",
       "        [-0.9843,  1.0344],\n",
       "        [-0.2228,  0.3630],\n",
       "        [-0.9647, -0.5340],\n",
       "        [-0.5199, -1.2349],\n",
       "        [ 0.1172, -0.7859],\n",
       "        [ 0.3827,  0.4095],\n",
       "        [-0.1562,  1.6558],\n",
       "        [ 1.3401, -1.5164],\n",
       "        [-0.3353, -0.3131],\n",
       "        [-0.9004, -0.5602],\n",
       "        [-0.8400, -0.1791],\n",
       "        [ 0.6223, -0.0435],\n",
       "        [-0.7825,  0.4539]])"
      ]
     },
     "execution_count": 89,
     "metadata": {},
     "output_type": "execute_result"
    }
   ],
   "source": [
    "C = torch.randn((27, 2))\n",
    "C"
   ]
  },
  {
   "cell_type": "code",
   "execution_count": 90,
   "id": "b2ba4ff4",
   "metadata": {},
   "outputs": [
    {
     "ename": "TypeError",
     "evalue": "one_hot(): argument 'input' (position 1) must be Tensor, not int",
     "output_type": "error",
     "traceback": [
      "\u001b[1;31m---------------------------------------------------------------------------\u001b[0m",
      "\u001b[1;31mTypeError\u001b[0m                                 Traceback (most recent call last)",
      "Cell \u001b[1;32mIn[90], line 2\u001b[0m\n\u001b[0;32m      1\u001b[0m \u001b[38;5;66;03m# The error is intentional to show it doesn't take integers, but takes tensors\u001b[39;00m\n\u001b[1;32m----> 2\u001b[0m F\u001b[38;5;241m.\u001b[39mone_hot(\u001b[38;5;241m5\u001b[39m, num_classes\u001b[38;5;241m=\u001b[39m\u001b[38;5;241m27\u001b[39m)\n",
      "\u001b[1;31mTypeError\u001b[0m: one_hot(): argument 'input' (position 1) must be Tensor, not int"
     ]
    }
   ],
   "source": [
    "# The error is intentional to show it doesn't take integers, but takes tensors\n",
    "F.one_hot(5, num_classes=27)"
   ]
  },
  {
   "cell_type": "code",
   "execution_count": 91,
   "id": "565a2dc2",
   "metadata": {},
   "outputs": [
    {
     "data": {
      "text/plain": [
       "tensor([ 0.6628, -0.2201])"
      ]
     },
     "execution_count": 91,
     "metadata": {},
     "output_type": "execute_result"
    }
   ],
   "source": [
    "C[5]"
   ]
  },
  {
   "cell_type": "code",
   "execution_count": 92,
   "id": "67886bc5",
   "metadata": {},
   "outputs": [
    {
     "data": {
      "text/plain": [
       "torch.Size([228146, 3, 2])"
      ]
     },
     "execution_count": 92,
     "metadata": {},
     "output_type": "execute_result"
    }
   ],
   "source": [
    "emb = C[x]\n",
    "emb.shape"
   ]
  },
  {
   "cell_type": "code",
   "execution_count": 93,
   "id": "15e6e6df",
   "metadata": {},
   "outputs": [],
   "source": [
    "W = torch.randn(6, 100)\n",
    "b1 = torch.randn(100)"
   ]
  },
  {
   "cell_type": "code",
   "execution_count": 94,
   "id": "c0912cfe",
   "metadata": {
    "scrolled": true
   },
   "outputs": [
    {
     "ename": "RuntimeError",
     "evalue": "mat1 and mat2 shapes cannot be multiplied (684438x2 and 6x100)",
     "output_type": "error",
     "traceback": [
      "\u001b[1;31m---------------------------------------------------------------------------\u001b[0m",
      "\u001b[1;31mRuntimeError\u001b[0m                              Traceback (most recent call last)",
      "Cell \u001b[1;32mIn[94], line 2\u001b[0m\n\u001b[0;32m      1\u001b[0m \u001b[38;5;66;03m# shape mismatch (32, 3, 2) can't be multiplied by (6, 100)\u001b[39;00m\n\u001b[1;32m----> 2\u001b[0m emb \u001b[38;5;241m@\u001b[39m W \u001b[38;5;241m+\u001b[39m b1\n",
      "\u001b[1;31mRuntimeError\u001b[0m: mat1 and mat2 shapes cannot be multiplied (684438x2 and 6x100)"
     ]
    }
   ],
   "source": [
    "# shape mismatch (32, 3, 2) can't be multiplied by (6, 100)\n",
    "emb @ W + b1\n",
    "\n",
    "# (32, 3, 2) should be changed to (32, 6)"
   ]
  },
  {
   "cell_type": "code",
   "execution_count": 95,
   "id": "bf1500b7",
   "metadata": {},
   "outputs": [
    {
     "data": {
      "text/plain": [
       "tensor([[ 0.4810,  0.2461,  0.4810,  0.2461,  0.4810,  0.2461],\n",
       "        [ 0.4810,  0.2461,  0.4810,  0.2461,  0.6628, -0.2201],\n",
       "        [ 0.4810,  0.2461,  0.6628, -0.2201, -0.8652,  1.0362],\n",
       "        ...,\n",
       "        [-0.7825,  0.4539, -0.7825,  0.4539,  0.6223, -0.0435],\n",
       "        [-0.7825,  0.4539,  0.6223, -0.0435, -0.7825,  0.4539],\n",
       "        [ 0.6223, -0.0435, -0.7825,  0.4539, -0.8400, -0.1791]])"
      ]
     },
     "execution_count": 95,
     "metadata": {},
     "output_type": "execute_result"
    }
   ],
   "source": [
    "# Not generic whatsoever\n",
    "torch.cat([emb[:, 0, :], emb[:, 1, :], emb[:, 2, :]], 1)"
   ]
  },
  {
   "cell_type": "code",
   "execution_count": 96,
   "id": "315c61b5",
   "metadata": {},
   "outputs": [
    {
     "data": {
      "text/plain": [
       "torch.Size([228146, 6])"
      ]
     },
     "execution_count": 96,
     "metadata": {},
     "output_type": "execute_result"
    }
   ],
   "source": [
    "# This one is. Using unbind\n",
    "torch.cat(torch.unbind(emb, 1), 1).shape\n",
    "\n",
    "# Like that it doesn't matter how big or small the block size is. However not the most efficient\n",
    "# Not efficient because it creates a whole new tensor with a whole new storage"
   ]
  },
  {
   "cell_type": "code",
   "execution_count": 97,
   "id": "8a5f267a",
   "metadata": {},
   "outputs": [
    {
     "ename": "RuntimeError",
     "evalue": "shape '[32, 6]' is invalid for input of size 1368876",
     "output_type": "error",
     "traceback": [
      "\u001b[1;31m---------------------------------------------------------------------------\u001b[0m",
      "\u001b[1;31mRuntimeError\u001b[0m                              Traceback (most recent call last)",
      "Cell \u001b[1;32mIn[97], line 2\u001b[0m\n\u001b[0;32m      1\u001b[0m \u001b[38;5;66;03m# This is better\u001b[39;00m\n\u001b[1;32m----> 2\u001b[0m emb\u001b[38;5;241m.\u001b[39mview((\u001b[38;5;241m32\u001b[39m, \u001b[38;5;241m6\u001b[39m))\n",
      "\u001b[1;31mRuntimeError\u001b[0m: shape '[32, 6]' is invalid for input of size 1368876"
     ]
    }
   ],
   "source": [
    "# This is better\n",
    "emb.view((32, 6))\n",
    "\n",
    "#and boom, it's identical"
   ]
  },
  {
   "cell_type": "code",
   "execution_count": 98,
   "id": "37370208",
   "metadata": {},
   "outputs": [],
   "source": [
    "h = torch.tanh(emb.view((-1, 6)) @ W + b1)\n",
    "\n",
    "# the bias vector here is 100. so what tensor does is the following\n",
    "#32, 100\n",
    "# 1, 100\n",
    "# it puts that 100 to the right and does an element wise addition"
   ]
  },
  {
   "cell_type": "code",
   "execution_count": 99,
   "id": "fa70be80",
   "metadata": {},
   "outputs": [
    {
     "data": {
      "text/plain": [
       "tensor([[-0.5874,  0.0051,  0.8926,  ...,  0.9102,  0.9570,  0.9247],\n",
       "        [-0.1496, -0.7936,  0.8633,  ...,  0.9580,  0.8515,  0.9377],\n",
       "        [-0.1064,  0.9943, -0.1340,  ...,  0.9604,  0.9996,  0.7210],\n",
       "        ...,\n",
       "        [ 0.6730, -0.9273, -0.3185,  ..., -0.9920, -0.9541,  0.9965],\n",
       "        [ 0.8901,  0.7937, -0.7555,  ...,  0.0593,  0.9964,  0.9833],\n",
       "        [ 0.9217, -0.3228, -0.8100,  ...,  0.8609, -0.8421,  0.9735]])"
      ]
     },
     "execution_count": 99,
     "metadata": {},
     "output_type": "execute_result"
    }
   ],
   "source": [
    "h"
   ]
  },
  {
   "cell_type": "code",
   "execution_count": 100,
   "id": "f9e60b6e",
   "metadata": {},
   "outputs": [
    {
     "data": {
      "text/plain": [
       "torch.Size([228146, 100])"
      ]
     },
     "execution_count": 100,
     "metadata": {},
     "output_type": "execute_result"
    }
   ],
   "source": [
    "h.shape"
   ]
  },
  {
   "cell_type": "code",
   "execution_count": 101,
   "id": "35dcb1f2",
   "metadata": {},
   "outputs": [],
   "source": [
    "# we're expecting one of 27 letters\n",
    "W2 = torch.randn(100, 27)\n",
    "b2 = torch.randn(27)"
   ]
  },
  {
   "cell_type": "code",
   "execution_count": 102,
   "id": "e7bc6567",
   "metadata": {},
   "outputs": [],
   "source": [
    "logits = h @ W2 + b2"
   ]
  },
  {
   "cell_type": "code",
   "execution_count": 103,
   "id": "5e7d4774",
   "metadata": {},
   "outputs": [
    {
     "data": {
      "text/plain": [
       "torch.Size([228146, 27])"
      ]
     },
     "execution_count": 103,
     "metadata": {},
     "output_type": "execute_result"
    }
   ],
   "source": [
    "logits.shape"
   ]
  },
  {
   "cell_type": "code",
   "execution_count": 104,
   "id": "fac96fa8",
   "metadata": {},
   "outputs": [],
   "source": [
    "counts = logits.exp()"
   ]
  },
  {
   "cell_type": "code",
   "execution_count": 105,
   "id": "c7f0b319",
   "metadata": {},
   "outputs": [],
   "source": [
    "probs = counts / counts.sum(1, keepdims = True)"
   ]
  },
  {
   "cell_type": "code",
   "execution_count": 106,
   "id": "4a7d8b4d",
   "metadata": {},
   "outputs": [
    {
     "data": {
      "text/plain": [
       "torch.Size([228146, 27])"
      ]
     },
     "execution_count": 106,
     "metadata": {},
     "output_type": "execute_result"
    }
   ],
   "source": [
    "probs.shape"
   ]
  },
  {
   "cell_type": "code",
   "execution_count": 107,
   "id": "b02cd0d1",
   "metadata": {},
   "outputs": [
    {
     "data": {
      "text/plain": [
       "tensor(1.0000)"
      ]
     },
     "execution_count": 107,
     "metadata": {},
     "output_type": "execute_result"
    }
   ],
   "source": [
    "# normalized\n",
    "probs[0].sum()"
   ]
  },
  {
   "cell_type": "code",
   "execution_count": 108,
   "id": "28260fc4",
   "metadata": {},
   "outputs": [
    {
     "data": {
      "text/plain": [
       "tensor([ 0,  1,  2,  3,  4,  5,  6,  7,  8,  9, 10, 11, 12, 13, 14, 15, 16, 17,\n",
       "        18, 19, 20, 21, 22, 23, 24, 25, 26, 27, 28, 29, 30, 31])"
      ]
     },
     "execution_count": 108,
     "metadata": {},
     "output_type": "execute_result"
    }
   ],
   "source": [
    "torch.arange(32)"
   ]
  },
  {
   "cell_type": "code",
   "execution_count": 109,
   "id": "84c785f2",
   "metadata": {},
   "outputs": [
    {
     "data": {
      "text/plain": [
       "tensor([ 5, 13, 13,  ..., 26, 24,  0])"
      ]
     },
     "execution_count": 109,
     "metadata": {},
     "output_type": "execute_result"
    }
   ],
   "source": [
    "y"
   ]
  },
  {
   "cell_type": "code",
   "execution_count": 113,
   "id": "85a3b450",
   "metadata": {},
   "outputs": [
    {
     "data": {
      "text/plain": [
       "tensor([3.0960e-11, 2.0431e-09, 8.4770e-03, 4.0457e-08, 7.6812e-16, 4.2925e-14,\n",
       "        1.4553e-06, 4.7633e-07, 4.4485e-04, 2.1937e-08, 8.3422e-13, 4.4187e-07,\n",
       "        2.4433e-13, 4.3137e-10, 1.9612e-07, 3.9856e-07, 8.9888e-04, 1.9046e-04,\n",
       "        9.8623e-13, 6.7217e-10, 1.9345e-09, 1.0259e-07, 7.4662e-04, 6.2372e-06,\n",
       "        1.3340e-14, 1.7907e-02, 9.5726e-13, 2.3418e-10, 9.0844e-02, 6.7714e-07,\n",
       "        1.7016e-07, 1.8321e-06])"
      ]
     },
     "execution_count": 113,
     "metadata": {},
     "output_type": "execute_result"
    }
   ],
   "source": [
    "# The probability assigned to each characher is very small because the NN is not trained yet. and ofc they're idealy 1\n",
    "probs[torch.arange(32), y[:32]]"
   ]
  },
  {
   "cell_type": "code",
   "execution_count": 114,
   "id": "b95e2a81",
   "metadata": {},
   "outputs": [],
   "source": [
    "loss = -probs[torch.arange(32), y[:32]].log().mean()"
   ]
  },
  {
   "cell_type": "code",
   "execution_count": 115,
   "id": "27853572",
   "metadata": {},
   "outputs": [
    {
     "data": {
      "text/plain": [
       "tensor(17.4709)"
      ]
     },
     "execution_count": 115,
     "metadata": {},
     "output_type": "execute_result"
    }
   ],
   "source": [
    "loss"
   ]
  },
  {
   "cell_type": "code",
   "execution_count": 116,
   "id": "8abd2df0",
   "metadata": {},
   "outputs": [],
   "source": [
    "# -------- he said it more respicatable that way ----------"
   ]
  },
  {
   "cell_type": "code",
   "execution_count": 131,
   "id": "b1b7b7ae",
   "metadata": {},
   "outputs": [
    {
     "data": {
      "text/plain": [
       "(torch.Size([182625, 3]), torch.Size([182625]))"
      ]
     },
     "execution_count": 131,
     "metadata": {},
     "output_type": "execute_result"
    }
   ],
   "source": [
    "xtr.shape, ytr.shape"
   ]
  },
  {
   "cell_type": "code",
   "execution_count": 206,
   "id": "9c733214",
   "metadata": {},
   "outputs": [],
   "source": [
    "g = torch.Generator().manual_seed(2147483674)\n",
    "C = torch.randn((27, 10), generator=g)\n",
    "w1 = torch.randn((30, 200), generator=g)\n",
    "b1 = torch.randn(200, generator=g)\n",
    "w2 = torch.randn((200, 27), generator=g)\n",
    "b2 = torch.randn(27, generator=g)\n",
    "parameters = [C, w1, b1, w2, b2]"
   ]
  },
  {
   "cell_type": "code",
   "execution_count": 207,
   "id": "86a2fa65",
   "metadata": {},
   "outputs": [
    {
     "data": {
      "text/plain": [
       "11897"
      ]
     },
     "execution_count": 207,
     "metadata": {},
     "output_type": "execute_result"
    }
   ],
   "source": [
    "sum(p.nelement() for p in parameters) # counting the number of paramters in the nn in total"
   ]
  },
  {
   "cell_type": "code",
   "execution_count": 208,
   "id": "693770be",
   "metadata": {},
   "outputs": [],
   "source": [
    "for p in parameters:\n",
    "    p.requires_grad = True"
   ]
  },
  {
   "cell_type": "code",
   "execution_count": 209,
   "id": "441485fe",
   "metadata": {},
   "outputs": [],
   "source": [
    "# determining what is a good learning rate for the model\n",
    "lre = torch.linspace(-3, 0, 1000)\n",
    "lrs = 10**lre"
   ]
  },
  {
   "cell_type": "code",
   "execution_count": 210,
   "id": "f4dfcefc",
   "metadata": {},
   "outputs": [],
   "source": [
    "lri = []\n",
    "lossi = []\n",
    "stepi = []"
   ]
  },
  {
   "cell_type": "code",
   "execution_count": 215,
   "id": "dd637ad4",
   "metadata": {},
   "outputs": [
    {
     "name": "stdout",
     "output_type": "stream",
     "text": [
      "2.1458206176757812\n"
     ]
    }
   ],
   "source": [
    "for i in range(200000):\n",
    "    \n",
    "    # constructing mini batches\n",
    "    ix = torch.randint(0, xtr.shape[0], (32,))\n",
    "    \n",
    "    # Forward pass\n",
    "    emb = C[xtr[ix]] # (32, 3, 2)\n",
    "    h = torch.tanh(emb.view(-1, 30) @ w1 + b1) # (32, 100)\n",
    "    logits = h @ w2 + b2\n",
    "    \n",
    "    # counts = h.exp()\n",
    "    # probs = counts / counts.sum(1, keepdims=True)\n",
    "    # loss = -probs[torch.arange(32), y].log().mean()      \n",
    "    \n",
    "    ## The problem here is that numbers can take a very radical path and getting either too large positive values or very small negative values\n",
    "    # Large positive values are what makes the problem of overflowing the dtype when introduced to .exp making it a nan (not a number)\n",
    "    # so what's good about F.cross_entropy is that it subtracts(offsets) the maximum values from the whole vecotr.\n",
    "    # in practice this is never used for cross entropy doesn't create all these intermediate tensors taking up space\n",
    "\n",
    "    loss = F.cross_entropy(logits, ytr[ix])\n",
    "     \n",
    "    # Now the forward pass is more efficient, the backward pass is more efficient and number are numerically well-behaved \n",
    "\n",
    "    \n",
    "    # Backward pass\n",
    "    for p in parameters:\n",
    "        p.grad = None\n",
    "    loss.backward()\n",
    "    \n",
    "    # update\n",
    "    lr = 0.1 if i < 100000 else 0.1\n",
    "    for p in parameters:\n",
    "        p.data += -lr * p.grad\n",
    "    \n",
    "    stepi.append(i)\n",
    "        \n",
    "    # track stats\n",
    "#     lri.append(lre[i])\n",
    "    lossi.append(loss.log10().item())\n",
    "    \n",
    "print(loss.item())    # In this case the loss is for the mini batch"
   ]
  },
  {
   "cell_type": "code",
   "execution_count": 212,
   "id": "4dd6c3b9",
   "metadata": {},
   "outputs": [
    {
     "data": {
      "text/plain": [
       "[<matplotlib.lines.Line2D at 0x1ea2ca35d90>]"
      ]
     },
     "execution_count": 212,
     "metadata": {},
     "output_type": "execute_result"
    },
    {
     "data": {
      "image/png": "[encoded data removed]",
      "text/plain": [
       "<Figure size 640x480 with 1 Axes>"
      ]
     },
     "metadata": {},
     "output_type": "display_data"
    }
   ],
   "source": [
    "plt.plot(stepi, lossi)"
   ]
  },
  {
   "cell_type": "code",
   "execution_count": null,
   "id": "602edb74",
   "metadata": {},
   "outputs": [],
   "source": [
    "#plt.plot(lri, lossi)"
   ]
  },
  {
   "cell_type": "markdown",
   "id": "e2274e7c",
   "metadata": {},
   "source": [
    "##### The upper cell takes much time in each iteration because we're working with the whole dataset moving forward and backword. \n",
    "##### Instead, a random set of batches (smaller portions of data) are put into forward and backward propagation"
   ]
  },
  {
   "cell_type": "markdown",
   "id": "3394403d",
   "metadata": {},
   "source": [
    "### Another note here is that the gradient isn't as stable in the case of mini batches but it's efficient enough"
   ]
  },
  {
   "cell_type": "code",
   "execution_count": 216,
   "id": "2eda8c45",
   "metadata": {},
   "outputs": [
    {
     "data": {
      "text/plain": [
       "tensor(2.1700, grad_fn=<NllLossBackward0>)"
      ]
     },
     "execution_count": 216,
     "metadata": {},
     "output_type": "execute_result"
    }
   ],
   "source": [
    "# test loss\n",
    "emb = C[xtr] # (32, 3, 2)\n",
    "h = torch.tanh(emb.view(-1, 30) @ w1 + b1) # (32, 100)\n",
    "logits = h @ w2 + b2\n",
    "loss = F.cross_entropy(logits, ytr)\n",
    "loss"
   ]
  },
  {
   "cell_type": "code",
   "execution_count": 217,
   "id": "f9455533",
   "metadata": {},
   "outputs": [
    {
     "data": {
      "text/plain": [
       "tensor(2.2410, grad_fn=<NllLossBackward0>)"
      ]
     },
     "execution_count": 217,
     "metadata": {},
     "output_type": "execute_result"
    }
   ],
   "source": [
    "# dev/validation loss\n",
    "emb = C[xdev] # (32, 3, 2)\n",
    "h = torch.tanh(emb.view(-1, 30) @ w1 + b1) # (32, 100)\n",
    "logits = h @ w2 + b2\n",
    "loss = F.cross_entropy(logits, ydev)\n",
    "loss"
   ]
  },
  {
   "cell_type": "code",
   "execution_count": 142,
   "id": "60c00858",
   "metadata": {},
   "outputs": [],
   "source": [
    "# They're roughly the same i.e. it means we're underfitting\n",
    "# That typically mean our network is very small"
   ]
  },
  {
   "cell_type": "code",
   "execution_count": 124,
   "id": "7cbe5fb0",
   "metadata": {},
   "outputs": [],
   "source": [
    "# training split, dev/validation split, test split\n",
    "# 80%, 10%, 10%"
   ]
  },
  {
   "cell_type": "code",
   "execution_count": 177,
   "id": "dafbc6b8",
   "metadata": {},
   "outputs": [
    {
     "data": {
      "image/png": "[encoded data removed]",
      "text/plain": [
       "<Figure size 800x800 with 1 Axes>"
      ]
     },
     "metadata": {},
     "output_type": "display_data"
    }
   ],
   "source": [
    "plt.figure(figsize=(8,8))\n",
    "plt.scatter(C[:,0].data, C[:,1].data, s=200)\n",
    "for i in range(C.shape[0]):\n",
    "    plt.text(C[i,0].item(), C[i,1].item(), itos[i], ha='center', va='center', color='white')\n",
    "plt.grid('minor')"
   ]
  },
  {
   "cell_type": "code",
   "execution_count": 221,
   "id": "0b4913a4",
   "metadata": {},
   "outputs": [
    {
     "name": "stdout",
     "output_type": "stream",
     "text": [
      "junide.\n",
      "jaya.\n",
      "azal.\n",
      "zyah.\n",
      "aira.\n",
      "keitrito.\n",
      "sami.\n",
      "ger.\n",
      "asianasty.\n",
      "milena.\n",
      "jededaileti.\n",
      "safse.\n",
      "yina.\n",
      "larke.\n",
      "faraum.\n",
      "syi.\n",
      "demmy.\n",
      "phnastina.\n",
      "jaylie.\n",
      "raaya.\n"
     ]
    }
   ],
   "source": [
    "# sampling from the model\n",
    "g = torch.Generator().manual_seed(2147483647)\n",
    "\n",
    "for _ in range(20):\n",
    "    out = []\n",
    "    context = [0] * block_size\n",
    "    while True:\n",
    "        emb = C[torch.tensor([context])]\n",
    "        h = torch.tanh(emb.view(1, -1) @ w1 + b1)\n",
    "        logits = h @ w2 + b2\n",
    "        probs = F.softmax(logits, dim=1)\n",
    "        ix = torch.multinomial(probs, num_samples=1, generator=g).item()\n",
    "        context = context[1:] + [ix]\n",
    "        out.append(ix)\n",
    "        if ix == 0:\n",
    "            break\n",
    "    print(''.join(itos[i] for i in out))"
   ]
  },
  {
   "cell_type": "code",
   "execution_count": null,
   "id": "b90db198",
   "metadata": {},
   "outputs": [],
   "source": []
  }
 ],
 "metadata": {
  "kernelspec": {
   "display_name": "Python 3 (ipykernel)",
   "language": "python",
   "name": "python3"
  },
  "language_info": {
   "codemirror_mode": {
    "name": "ipython",
    "version": 3
   },
   "file_extension": ".py",
   "mimetype": "text/x-python",
   "name": "python",
   "nbconvert_exporter": "python",
   "pygments_lexer": "ipython3",
   "version": "3.11.5"
  }
 },
 "nbformat": 4,
 "nbformat_minor": 5
}
